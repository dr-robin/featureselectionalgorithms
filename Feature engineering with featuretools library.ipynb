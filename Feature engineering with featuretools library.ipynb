{
 "cells": [
  {
   "cell_type": "code",
   "execution_count": null,
   "metadata": {},
   "outputs": [],
   "source": [
    "#pip install featuretools"
   ]
  },
  {
   "cell_type": "code",
   "execution_count": null,
   "metadata": {},
   "outputs": [],
   "source": [
    "\n",
    "import featuretools as ft\n",
    "\n",
    "es = ft.demo.load_mock_customer(return_entityset=True)\n",
    "\n",
    "es"
   ]
  },
  {
   "cell_type": "code",
   "execution_count": null,
   "metadata": {},
   "outputs": [],
   "source": [
    "feature_matrix, feature_defs = ft.dfs(entityset=es,\n",
    "                                       target_entity=\"customers\",\n",
    "                                       agg_primitives=[\"count\"],\n",
    "                                       trans_primitives=[\"month\"],\n",
    "                                       max_depth=1)\n",
    "feature_matrix"
   ]
  },
  {
   "cell_type": "code",
   "execution_count": null,
   "metadata": {},
   "outputs": [],
   "source": [
    "#create some deep features\n",
    "feature_matrix, feature_defs = ft.dfs(entityset=es,\n",
    "                                       target_entity=\"customers\",\n",
    "                                       agg_primitives=[\"mean\", \"sum\", \"mode\"],\n",
    "                                       trans_primitives=[\"month\", \"hour\"],\n",
    "                                      max_depth=2)"
   ]
  },
  {
   "cell_type": "code",
   "execution_count": null,
   "metadata": {},
   "outputs": [],
   "source": [
    "#check some of the deep features created\n",
    "feature_matrix[['MEAN(sessions.SUM(transactions.amount))']]\n",
    "\n",
    "feature_matrix[['MODE(sessions.HOUR(session_start))']]"
   ]
  },
  {
   "cell_type": "code",
   "execution_count": null,
   "metadata": {},
   "outputs": [],
   "source": [
    " #Deep feature selection with different target_entity - sessions\n",
    "    \n",
    "feature_matrix, feature_defs = ft.dfs(entityset=es,\n",
    "                                       target_entity=\"sessions\",\n",
    "                                       agg_primitives=[\"mean\", \"sum\", \"mode\"],\n",
    "                                       trans_primitives=[\"month\", \"hour\"],\n",
    "                                       max_depth=2)"
   ]
  },
  {
   "cell_type": "code",
   "execution_count": null,
   "metadata": {},
   "outputs": [],
   "source": [
    "#check some of features\n",
    "feature_matrix[['customers.MEAN(transactions.amount)']].head(5)"
   ]
  },
  {
   "cell_type": "code",
   "execution_count": null,
   "metadata": {},
   "outputs": [],
   "source": [
    "#Lots of ways to tune deep feature synthesis\n",
    "https://featuretools.alteryx.com/en/stable/guides/tuning_dfs.html"
   ]
  },
  {
   "cell_type": "code",
   "execution_count": null,
   "metadata": {},
   "outputs": [],
   "source": [
    "#Auto generate features for deployment\n",
    "https://featuretools.alteryx.com/en/stable/guides/deployment.html"
   ]
  }
 ],
 "metadata": {
  "kernelspec": {
   "display_name": "Python 3",
   "language": "python",
   "name": "python3"
  },
  "language_info": {
   "codemirror_mode": {
    "name": "ipython",
    "version": 3
   },
   "file_extension": ".py",
   "mimetype": "text/x-python",
   "name": "python",
   "nbconvert_exporter": "python",
   "pygments_lexer": "ipython3",
   "version": "3.7.7"
  }
 },
 "nbformat": 4,
 "nbformat_minor": 4
}
